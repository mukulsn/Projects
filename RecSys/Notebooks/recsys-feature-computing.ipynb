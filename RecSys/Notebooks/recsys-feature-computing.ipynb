{
 "cells": [
  {
   "cell_type": "code",
   "execution_count": null,
   "metadata": {},
   "outputs": [],
   "source": [
    "import time \n",
    "\n",
    "notebook_start_time = time.time()"
   ]
  },
  {
   "cell_type": "markdown",
   "metadata": {},
   "source": [
    "# Set up environment"
   ]
  },
  {
   "cell_type": "code",
   "execution_count": null,
   "metadata": {
    "collapsed": true,
    "execution": {
     "iopub.execute_input": "2024-12-19T12:18:11.016373Z",
     "iopub.status.busy": "2024-12-19T12:18:11.015804Z",
     "iopub.status.idle": "2024-12-19T12:18:53.731787Z",
     "shell.execute_reply": "2024-12-19T12:18:53.730546Z",
     "shell.execute_reply.started": "2024-12-19T12:18:11.016334Z"
    },
    "jupyter": {
     "outputs_hidden": true
    },
    "trusted": true
   },
   "outputs": [],
   "source": [
    "import sys\n",
    "from pathlib import Path\n",
    "\n",
    "def is_google_colab() -> bool:\n",
    "    if \"google.colab\" in str(get_ipython()):\n",
    "        return True\n",
    "    return False\n",
    "\n",
    "def install_dependencies() -> None:\n",
    "    !pip install --upgrade uv\n",
    "    !uv pip install --all-extras --system --requirement pyproject.toml\n",
    "\n",
    "if is_google_colab():\n",
    "    install_dependencies()\n",
    "    root_dir = str(Path().absolute())\n",
    "    print(\"⛳️ Google Colab environment\")\n",
    "else:\n",
    "    root_dir = str(Path('/working/').absolute().parent)\n",
    "    print(\"⛳️ Local environment\")\n",
    "\n",
    "# Add the root directory to the PYTHONPATH\n",
    "if root_dir not in sys.path:\n",
    "    print(f\"Adding the following directory to the PYTHONPATH: {root_dir}\")\n",
    "    sys.path.append(root_dir)"
   ]
  },
  {
   "cell_type": "markdown",
   "metadata": {},
   "source": [
    "# Feature pipeline"
   ]
  },
  {
   "cell_type": "code",
   "execution_count": null,
   "metadata": {
    "execution": {
     "iopub.execute_input": "2024-12-19T12:20:59.487222Z",
     "iopub.status.busy": "2024-12-19T12:20:59.486728Z",
     "iopub.status.idle": "2024-12-19T12:21:17.258167Z",
     "shell.execute_reply": "2024-12-19T12:21:17.257156Z",
     "shell.execute_reply.started": "2024-12-19T12:20:59.487182Z"
    },
    "trusted": true
   },
   "outputs": [],
   "source": [
    "%load_ext autoreload\n",
    "%autoreload 2\n",
    "\n",
    "import warnings\n",
    "from pprint import pprint\n",
    "\n",
    "import polars as pl\n",
    "import torch\n",
    "from loguru import logger\n",
    "from sentence_transformers import SentenceTransformer\n",
    "\n",
    "warnings.filterwarnings(\"ignore\")\n",
    "\n",
    "from recsys import hopsworks_integration\n",
    "from recsys.config import settings\n",
    "from recsys.features.articles import (\n",
    "    compute_features_articles,\n",
    "    generate_embeddings_for_dataframe,\n",
    ")\n",
    "from recsys.features.customers import DatasetSampler, compute_features_customers\n",
    "from recsys.features.interaction import generate_interaction_data\n",
    "# from recsys.features.ranking import compute_ranking_dataset\n",
    "from recsys.features.transactions import compute_features_transactions\n",
    "from recsys.hopsworks_integration import feature_store\n",
    "from recsys.raw_data_sources import h_and_m as h_and_m_raw_data"
   ]
  },
  {
   "cell_type": "markdown",
   "metadata": {},
   "source": [
    "# Articles Data:\n",
    "\n",
    "- Article Id - it is similar to SKU id, each and every product have unique id.\n",
    "- Product Code - it is unique but at a specific product or style level. for example A Shirt have a product code but it have multiple sizes small, medium, large, XL so all these sizes will have same product code but different article id."
   ]
  },
  {
   "cell_type": "code",
   "execution_count": null,
   "metadata": {
    "trusted": true
   },
   "outputs": [],
   "source": [
    "articles_df = pl.read_parquet('articles.parquet')\n",
    "articles_df.shape"
   ]
  },
  {
   "cell_type": "markdown",
   "metadata": {},
   "source": [
    "## Articles feature engineering"
   ]
  },
  {
   "cell_type": "code",
   "execution_count": null,
   "metadata": {
    "execution": {
     "iopub.execute_input": "2024-12-19T12:21:17.260773Z",
     "iopub.status.busy": "2024-12-19T12:21:17.260100Z",
     "iopub.status.idle": "2024-12-19T12:25:48.421623Z",
     "shell.execute_reply": "2024-12-19T12:25:48.419757Z",
     "shell.execute_reply.started": "2024-12-19T12:21:17.260737Z"
    },
    "trusted": true
   },
   "outputs": [],
   "source": [
    "articles_df = compute_features_articles(articles_df)\n",
    "articles_df.shape"
   ]
  },
  {
   "cell_type": "code",
   "execution_count": null,
   "metadata": {
    "execution": {
     "iopub.execute_input": "2024-12-19T12:42:26.312239Z",
     "iopub.status.busy": "2024-12-19T12:42:26.311188Z",
     "iopub.status.idle": "2024-12-19T12:42:27.475823Z",
     "shell.execute_reply": "2024-12-19T12:42:27.474430Z",
     "shell.execute_reply.started": "2024-12-19T12:42:26.312162Z"
    },
    "trusted": true
   },
   "outputs": [],
   "source": [
    "articles_df = compute_features_articles(articles_df)\n",
    "articles_df.shape\n",
    "articles_df.head(3)"
   ]
  },
  {
   "cell_type": "markdown",
   "metadata": {},
   "source": [
    "#### Create embedding from the articles description"
   ]
  },
  {
   "cell_type": "code",
   "execution_count": null,
   "metadata": {
    "execution": {
     "iopub.execute_input": "2024-12-19T12:42:40.011548Z",
     "iopub.status.busy": "2024-12-19T12:42:40.010491Z",
     "iopub.status.idle": "2024-12-19T12:42:40.123110Z",
     "shell.execute_reply": "2024-12-19T12:42:40.121481Z",
     "shell.execute_reply.started": "2024-12-19T12:42:40.011495Z"
    },
    "trusted": true
   },
   "outputs": [],
   "source": [
    "for i, desc in enumerate(articles_df[\"article_description\"].head(n=3)):\n",
    "    logger.info(f\"Item {i+1}:\\n{desc}\")"
   ]
  },
  {
   "cell_type": "code",
   "execution_count": null,
   "metadata": {},
   "outputs": [],
   "source": [
    "device = (\n",
    "    \"cuda\"\n",
    "    if torch.cuda.is_available()\n",
    "    else \"mps\"\n",
    "    if torch.backends.mps.is_available()\n",
    "    else \"cpu\"\n",
    ")\n",
    "logger.info(\n",
    "    f\"Loading '{settings.FEATURES_EMBEDDING_MODEL_ID}' embedding model to {device=}\"\n",
    ")\n",
    "\n",
    "# Load the embedding model from SentenceTransformer's model registry.\n",
    "model = SentenceTransformer(settings.FEATURES_EMBEDDING_MODEL_ID, device=device)"
   ]
  },
  {
   "cell_type": "code",
   "execution_count": null,
   "metadata": {
    "execution": {
     "iopub.execute_input": "2024-12-19T09:18:50.677329Z",
     "iopub.status.busy": "2024-12-19T09:18:50.676936Z",
     "iopub.status.idle": "2024-12-19T09:49:47.550267Z",
     "shell.execute_reply": "2024-12-19T09:49:47.548799Z",
     "shell.execute_reply.started": "2024-12-19T09:18:50.677296Z"
    },
    "trusted": true
   },
   "outputs": [],
   "source": [
    "embedding = generate_embeddings_for_dataframe(\n",
    "    articles_df.head(1), \"article_description\", model, batch_size=128\n",
    ")['embeddings']\n",
    "embedding"
   ]
  },
  {
   "cell_type": "code",
   "execution_count": null,
   "metadata": {
    "execution": {
     "iopub.execute_input": "2024-12-19T12:44:02.271700Z",
     "iopub.status.busy": "2024-12-19T12:44:02.270572Z",
     "iopub.status.idle": "2024-12-19T12:44:05.271069Z",
     "shell.execute_reply": "2024-12-19T12:44:05.269845Z",
     "shell.execute_reply.started": "2024-12-19T12:44:02.271617Z"
    },
    "trusted": true
   },
   "outputs": [],
   "source": [
    "articles_df = articles_df.with_columns(\n",
    "    pl.lit(embedding[0].to_list()).alias(\"embeddings\")\n",
    ")\n",
    "articles_df.head(3)"
   ]
  },
  {
   "cell_type": "code",
   "execution_count": null,
   "metadata": {
    "execution": {
     "iopub.execute_input": "2024-12-19T12:44:22.570068Z",
     "iopub.status.busy": "2024-12-19T12:44:22.568597Z",
     "iopub.status.idle": "2024-12-19T12:44:22.674268Z",
     "shell.execute_reply": "2024-12-19T12:44:22.673126Z",
     "shell.execute_reply.started": "2024-12-19T12:44:22.570008Z"
    },
    "trusted": true
   },
   "outputs": [],
   "source": [
    "articles_df[[\"article_description\", \"embeddings\"]].head(3)"
   ]
  },
  {
   "cell_type": "code",
   "execution_count": null,
   "metadata": {
    "trusted": true
   },
   "outputs": [],
   "source": [
    "articles_df[\"image_url\"][3]"
   ]
  },
  {
   "cell_type": "markdown",
   "metadata": {},
   "source": [
    "### Images "
   ]
  },
  {
   "cell_type": "code",
   "execution_count": null,
   "metadata": {
    "execution": {
     "iopub.execute_input": "2024-12-19T12:46:37.704587Z",
     "iopub.status.busy": "2024-12-19T12:46:37.703857Z",
     "iopub.status.idle": "2024-12-19T12:46:37.801680Z",
     "shell.execute_reply": "2024-12-19T12:46:37.800322Z",
     "shell.execute_reply.started": "2024-12-19T12:46:37.704540Z"
    },
    "trusted": true
   },
   "outputs": [],
   "source": [
    "from IPython.display import HTML, display\n",
    "\n",
    "image_urls = articles_df[\"image_url\"].tail(12).to_list()\n",
    "grid_html = '<div style=\"display: grid; grid-template-columns: repeat(6, 1fr); gap: 10px; max-width: 900px;\">'\n",
    "\n",
    "for url in image_urls:\n",
    "    grid_html += f'<img src=\"{url}\" style=\"width: 100%; height: auto;\">'\n",
    "\n",
    "grid_html += \"</div>\"\n",
    "\n",
    "display(HTML(grid_html))"
   ]
  },
  {
   "cell_type": "markdown",
   "metadata": {},
   "source": [
    "# Customers Data"
   ]
  },
  {
   "cell_type": "code",
   "execution_count": null,
   "metadata": {
    "execution": {
     "iopub.execute_input": "2024-12-19T12:47:21.396849Z",
     "iopub.status.busy": "2024-12-19T12:47:21.395955Z",
     "iopub.status.idle": "2024-12-19T12:47:32.321452Z",
     "shell.execute_reply": "2024-12-19T12:47:32.320206Z",
     "shell.execute_reply.started": "2024-12-19T12:47:21.396800Z"
    },
    "trusted": true
   },
   "outputs": [],
   "source": [
    "customers_df = h_and_m_raw_data.extract_customers_df()\n",
    "customers_df.shape"
   ]
  },
  {
   "cell_type": "code",
   "execution_count": null,
   "metadata": {
    "execution": {
     "iopub.execute_input": "2024-12-19T12:47:48.781435Z",
     "iopub.status.busy": "2024-12-19T12:47:48.780869Z",
     "iopub.status.idle": "2024-12-19T12:47:48.888124Z",
     "shell.execute_reply": "2024-12-19T12:47:48.886811Z",
     "shell.execute_reply.started": "2024-12-19T12:47:48.781388Z"
    },
    "trusted": true
   },
   "outputs": [],
   "source": [
    "customers_df.head(3)"
   ]
  },
  {
   "cell_type": "code",
   "execution_count": null,
   "metadata": {
    "execution": {
     "iopub.execute_input": "2024-12-19T12:47:58.424787Z",
     "iopub.status.busy": "2024-12-19T12:47:58.424205Z",
     "iopub.status.idle": "2024-12-19T12:47:58.529388Z",
     "shell.execute_reply": "2024-12-19T12:47:58.528139Z",
     "shell.execute_reply.started": "2024-12-19T12:47:58.424737Z"
    },
    "trusted": true
   },
   "outputs": [],
   "source": [
    "customers_df.null_count() # checking nulls"
   ]
  },
  {
   "cell_type": "code",
   "execution_count": null,
   "metadata": {
    "execution": {
     "iopub.execute_input": "2024-12-19T12:48:06.112344Z",
     "iopub.status.busy": "2024-12-19T12:48:06.111841Z",
     "iopub.status.idle": "2024-12-19T12:48:06.313316Z",
     "shell.execute_reply": "2024-12-19T12:48:06.311825Z",
     "shell.execute_reply.started": "2024-12-19T12:48:06.112308Z"
    },
    "trusted": true
   },
   "outputs": [],
   "source": [
    "customers_df = compute_features_customers(customers_df, drop_null_age=True)\n",
    "customers_df.shape"
   ]
  },
  {
   "cell_type": "markdown",
   "metadata": {},
   "source": [
    "## Transactions Data"
   ]
  },
  {
   "cell_type": "code",
   "execution_count": null,
   "metadata": {
    "execution": {
     "iopub.execute_input": "2024-12-19T13:51:05.281691Z",
     "iopub.status.busy": "2024-12-19T13:51:05.281183Z",
     "iopub.status.idle": "2024-12-19T13:51:12.771869Z",
     "shell.execute_reply": "2024-12-19T13:51:12.770625Z",
     "shell.execute_reply.started": "2024-12-19T13:51:05.281615Z"
    },
    "trusted": true
   },
   "outputs": [],
   "source": [
    "transactions_df = h_and_m_raw_data.extract_transactions_df()\n",
    "transactions_df.shape"
   ]
  },
  {
   "cell_type": "code",
   "execution_count": null,
   "metadata": {},
   "outputs": [],
   "source": [
    "# converting string date column to datetime\n",
    "transactions_df = transactions_df.with_columns(\n",
    "    pl.col(\"t_dat\").str.strptime(pl.Datetime, \"%Y-%m-%d\"))\n",
    "\n",
    "transactions_df.head()"
   ]
  },
  {
   "cell_type": "code",
   "execution_count": null,
   "metadata": {},
   "outputs": [],
   "source": [
    "transactions_df = compute_features_transactions(transactions_df)\n",
    "transactions_df.shape"
   ]
  },
  {
   "cell_type": "markdown",
   "metadata": {},
   "source": [
    "#### Sampling from the dataset "
   ]
  },
  {
   "cell_type": "code",
   "execution_count": null,
   "metadata": {
    "execution": {
     "iopub.execute_input": "2024-12-19T13:51:56.983464Z",
     "iopub.status.busy": "2024-12-19T13:51:56.983010Z",
     "iopub.status.idle": "2024-12-19T13:52:00.909794Z",
     "shell.execute_reply": "2024-12-19T13:52:00.908701Z",
     "shell.execute_reply.started": "2024-12-19T13:51:56.983423Z"
    },
    "trusted": true
   },
   "outputs": [],
   "source": [
    "sampler = DatasetSampler(size=settings.CUSTOMER_DATA_SIZE)\n",
    "dataset_subset = sampler.sample(\n",
    "    customers_df=customers_df, transations_df=transactions_df\n",
    ")\n",
    "customers_df = dataset_subset[\"customers\"]\n",
    "transactions_df = dataset_subset[\"transactions\"]"
   ]
  },
  {
   "cell_type": "markdown",
   "metadata": {},
   "source": [
    "## Interaction Data\n",
    "\n",
    "To train our models, we need more than just the transactions DataFrame.  We need positive samples that signal whether a customer clicked or bought an item, but we also need negative samples that signal no interactions between a customer and an item."
   ]
  },
  {
   "cell_type": "code",
   "execution_count": null,
   "metadata": {
    "execution": {
     "iopub.execute_input": "2024-12-19T13:52:34.311716Z",
     "iopub.status.busy": "2024-12-19T13:52:34.311174Z",
     "iopub.status.idle": "2024-12-19T13:52:44.617755Z",
     "shell.execute_reply": "2024-12-19T13:52:44.616397Z",
     "shell.execute_reply.started": "2024-12-19T13:52:34.311629Z"
    },
    "trusted": true
   },
   "outputs": [],
   "source": [
    "interaction_df = generate_interaction_data(transactions_df)\n",
    "interaction_df.shape"
   ]
  },
  {
   "cell_type": "code",
   "execution_count": null,
   "metadata": {
    "execution": {
     "iopub.execute_input": "2024-12-19T13:52:57.785173Z",
     "iopub.status.busy": "2024-12-19T13:52:57.783964Z",
     "iopub.status.idle": "2024-12-19T13:52:57.908102Z",
     "shell.execute_reply": "2024-12-19T13:52:57.906906Z",
     "shell.execute_reply.started": "2024-12-19T13:52:57.785123Z"
    },
    "trusted": true
   },
   "outputs": [],
   "source": [
    "interaction_df.group_by(\"interaction_score\").agg(\n",
    "    pl.count(\"interaction_score\").alias(\"total_interactions\")\n",
    ")"
   ]
  },
  {
   "cell_type": "code",
   "execution_count": null,
   "metadata": {
    "execution": {
     "iopub.execute_input": "2024-12-19T13:53:36.724349Z",
     "iopub.status.busy": "2024-12-19T13:53:36.723834Z",
     "iopub.status.idle": "2024-12-19T13:53:36.829761Z",
     "shell.execute_reply": "2024-12-19T13:53:36.828376Z",
     "shell.execute_reply.started": "2024-12-19T13:53:36.724312Z"
    },
    "trusted": true
   },
   "outputs": [],
   "source": [
    "transactions_df.shape"
   ]
  },
  {
   "cell_type": "code",
   "execution_count": null,
   "metadata": {
    "execution": {
     "iopub.execute_input": "2024-12-19T14:03:03.965994Z",
     "iopub.status.busy": "2024-12-19T14:03:03.964485Z",
     "iopub.status.idle": "2024-12-19T14:03:04.076568Z",
     "shell.execute_reply": "2024-12-19T14:03:04.075050Z",
     "shell.execute_reply.started": "2024-12-19T14:03:03.965906Z"
    },
    "trusted": true
   },
   "outputs": [],
   "source": [
    "customers_fg = customers_df.clone()\n",
    "trans_fg = transactions_df.clone()\n",
    "articles_fg = articles_df.clone()\n",
    "interactions_fg  = interaction_df.clone()"
   ]
  },
  {
   "cell_type": "markdown",
   "metadata": {},
   "source": [
    "## Compute ranking dataset\n",
    "\n",
    "The last step is to compute the ranking dataset used to train the scoring/ranking model from the feature groups we've just created:"
   ]
  },
  {
   "cell_type": "code",
   "execution_count": null,
   "metadata": {
    "execution": {
     "iopub.execute_input": "2024-12-19T14:05:30.078886Z",
     "iopub.status.busy": "2024-12-19T14:05:30.078243Z",
     "iopub.status.idle": "2024-12-19T14:05:30.190730Z",
     "shell.execute_reply": "2024-12-19T14:05:30.189174Z",
     "shell.execute_reply.started": "2024-12-19T14:05:30.078840Z"
    },
    "trusted": true
   },
   "outputs": [],
   "source": [
    "articles_fg.head(1)"
   ]
  },
  {
   "cell_type": "code",
   "execution_count": null,
   "metadata": {
    "execution": {
     "iopub.execute_input": "2024-12-19T14:20:42.037406Z",
     "iopub.status.busy": "2024-12-19T14:20:42.036868Z",
     "iopub.status.idle": "2024-12-19T14:20:42.150241Z",
     "shell.execute_reply": "2024-12-19T14:20:42.148901Z",
     "shell.execute_reply.started": "2024-12-19T14:20:42.037363Z"
    },
    "trusted": true
   },
   "outputs": [],
   "source": [
    "def compute_ranking_dataset_new(trans_fg, articles_fg, customers_fg) -> pl.DataFrame:\n",
    "    # Read data from the feature groups\n",
    "    trans_df = trans_fg.select(\n",
    "        [\"article_id\", \"customer_id\"]\n",
    "    )\n",
    "    articles_df = articles_fg.select(pl.exclude([\"article_description\", \"embeddings\", \"image_url\"]))\n",
    "    customers_df = customers_fg.select([\"customer_id\", \"age\"])\n",
    "\n",
    "    # Convert article_id to string in both dataframes before joining\n",
    "    trans_df = trans_df.with_columns(pl.col(\"article_id\").cast(pl.Utf8))\n",
    "    articles_df = articles_df.with_columns(pl.col(\"article_id\").cast(pl.Utf8))\n",
    "\n",
    "    # Merge operations\n",
    "    df = trans_df.join(articles_df, on=\"article_id\", how=\"left\")\n",
    "    df = df.join(customers_df, on=\"customer_id\", how=\"left\")\n",
    "\n",
    "    # Select query features\n",
    "    query_features = [\"customer_id\", \"age\", \"article_id\"]\n",
    "    df = df.select(query_features)\n",
    "\n",
    "    # Create positive pairs\n",
    "    positive_pairs = df.clone()\n",
    "\n",
    "    # Calculate number of negative pairs\n",
    "    n_neg = len(positive_pairs) * 10\n",
    "\n",
    "    # Create negative pairs DataFrame\n",
    "    article_ids = (df.select(\"article_id\")\n",
    "                    .unique()\n",
    "                    .sample(n=n_neg, with_replacement=True, seed=2)\n",
    "                    .get_column(\"article_id\"))\n",
    "    \n",
    "    customer_ids = (df.select(\"customer_id\")\n",
    "                     .sample(n=n_neg, with_replacement=True, seed=3)\n",
    "                     .get_column(\"customer_id\"))\n",
    "\n",
    "    other_features = (df.select([\"age\"])\n",
    "                       .sample(n=n_neg, with_replacement=True, seed=4))\n",
    "\n",
    "    # Construct negative pairs\n",
    "    negative_pairs = pl.DataFrame({\n",
    "        \"article_id\": article_ids,\n",
    "        \"customer_id\": customer_ids,\n",
    "        \"age\": other_features.get_column(\"age\"),\n",
    "    })\n",
    "\n",
    "    # Add labels\n",
    "    positive_pairs = positive_pairs.with_columns(pl.lit(1).alias(\"label\"))\n",
    "    negative_pairs = negative_pairs.with_columns(pl.lit(0).alias(\"label\"))\n",
    "\n",
    "    # Concatenate positive and negative pairs\n",
    "    ranking_df = pl.concat([\n",
    "        positive_pairs,\n",
    "        negative_pairs.select(positive_pairs.columns)\n",
    "    ])\n",
    "\n",
    "    # Process item features\n",
    "    item_df = articles_fg\n",
    "    \n",
    "    # Convert article_id to string in item_df before final join\n",
    "    item_df = item_df.with_columns(pl.col(\"article_id\").cast(pl.Utf8))\n",
    "    \n",
    "    # Keep unique article_ids and select columns\n",
    "    item_df = (\n",
    "        item_df.unique(subset=[\"article_id\"])\n",
    "        .select([\n",
    "            \"article_id\",\n",
    "            \"product_type_name\",\n",
    "            \"product_group_name\",\n",
    "            \"graphical_appearance_name\",\n",
    "            \"colour_group_name\",\n",
    "            \"perceived_colour_value_name\",\n",
    "            \"perceived_colour_master_name\",\n",
    "            \"department_name\",\n",
    "            \"index_name\",\n",
    "            \"index_group_name\",\n",
    "            \"section_name\",\n",
    "            \"garment_group_name\",\n",
    "        ])\n",
    "    )\n",
    "\n",
    "    # Final merge with item features\n",
    "    ranking_df = ranking_df.join(item_df, on=\"article_id\", how=\"left\")\n",
    "\n",
    "    return ranking_df"
   ]
  },
  {
   "cell_type": "code",
   "execution_count": null,
   "metadata": {
    "execution": {
     "iopub.execute_input": "2024-12-19T14:20:44.868566Z",
     "iopub.status.busy": "2024-12-19T14:20:44.868049Z",
     "iopub.status.idle": "2024-12-19T14:20:46.040010Z",
     "shell.execute_reply": "2024-12-19T14:20:46.038660Z",
     "shell.execute_reply.started": "2024-12-19T14:20:44.868527Z"
    },
    "trusted": true
   },
   "outputs": [],
   "source": [
    "# changed the function here \n",
    "ranking_df = compute_ranking_dataset_new(\n",
    "    trans_fg,\n",
    "    articles_fg,\n",
    "    customers_fg,\n",
    ")\n",
    "ranking_df.shape"
   ]
  },
  {
   "cell_type": "code",
   "execution_count": null,
   "metadata": {
    "execution": {
     "iopub.execute_input": "2024-12-19T14:21:22.935409Z",
     "iopub.status.busy": "2024-12-19T14:21:22.934882Z",
     "iopub.status.idle": "2024-12-19T14:21:23.045240Z",
     "shell.execute_reply": "2024-12-19T14:21:23.044045Z",
     "shell.execute_reply.started": "2024-12-19T14:21:22.935369Z"
    },
    "trusted": true
   },
   "outputs": [],
   "source": [
    "ranking_df.head(3)"
   ]
  },
  {
   "cell_type": "code",
   "execution_count": null,
   "metadata": {
    "execution": {
     "iopub.execute_input": "2024-12-19T14:21:57.332864Z",
     "iopub.status.busy": "2024-12-19T14:21:57.332254Z",
     "iopub.status.idle": "2024-12-19T14:21:57.452980Z",
     "shell.execute_reply": "2024-12-19T14:21:57.451598Z",
     "shell.execute_reply.started": "2024-12-19T14:21:57.332819Z"
    },
    "trusted": true
   },
   "outputs": [],
   "source": [
    "ranking_df.get_column(\"label\").value_counts()"
   ]
  },
  {
   "cell_type": "code",
   "execution_count": null,
   "metadata": {
    "trusted": true
   },
   "outputs": [],
   "source": []
  }
 ],
 "metadata": {
  "kaggle": {
   "accelerator": "none",
   "dataSources": [
    {
     "databundleVersionId": 3103714,
     "sourceId": 31254,
     "sourceType": "competition"
    }
   ],
   "dockerImageVersionId": 30804,
   "isGpuEnabled": false,
   "isInternetEnabled": true,
   "language": "python",
   "sourceType": "notebook"
  },
  "kernelspec": {
   "display_name": "Python 3",
   "language": "python",
   "name": "python3"
  },
  "language_info": {
   "codemirror_mode": {
    "name": "ipython",
    "version": 3
   },
   "file_extension": ".py",
   "mimetype": "text/x-python",
   "name": "python",
   "nbconvert_exporter": "python",
   "pygments_lexer": "ipython3",
   "version": "3.10.14"
  }
 },
 "nbformat": 4,
 "nbformat_minor": 4
}
